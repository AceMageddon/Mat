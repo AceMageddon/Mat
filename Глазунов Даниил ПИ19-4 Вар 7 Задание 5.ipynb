{
 "cells": [
  {
   "cell_type": "markdown",
   "id": "4dcb637c",
   "metadata": {
    "pycharm": {
     "name": "#%% md\n"
    }
   },
   "source": [
    "Вариант 7 Глазунов Даниил ПИ19-4"
   ]
  },
  {
   "cell_type": "code",
   "execution_count": 13,
   "id": "aa546e2c",
   "metadata": {
    "pycharm": {
     "name": "#%%\n"
    }
   },
   "outputs": [],
   "source": [
    "import numpy as np\n",
    "from scipy.optimize import minimize, LinearConstraint\n",
    "import matplotlib.pyplot as plt"
   ]
  },
  {
   "cell_type": "code",
   "execution_count": 14,
   "id": "85d97cd1",
   "metadata": {
    "pycharm": {
     "name": "#%%\n"
    }
   },
   "outputs": [],
   "source": [
    "frac = lambda x: float(x.split('/')[0]) / float(x.split('/')[1]) if '/' in x else float(x)"
   ]
  },
  {
   "cell_type": "code",
   "execution_count": 15,
   "id": "7e287908",
   "metadata": {
    "pycharm": {
     "name": "#%%\n"
    }
   },
   "outputs": [],
   "source": [
    "a = 4\n",
    "b = 12\n",
    "c = 1/2"
   ]
  },
  {
   "cell_type": "code",
   "execution_count": 16,
   "id": "ddfeb965",
   "metadata": {
    "pycharm": {
     "name": "#%%\n"
    }
   },
   "outputs": [],
   "source": [
    "def F(xy):\n",
    "    x, y = xy\n",
    "    return -(x + a * y)"
   ]
  },
  {
   "cell_type": "code",
   "execution_count": 17,
   "id": "1562fae8",
   "metadata": {
    "pycharm": {
     "name": "#%%\n"
    }
   },
   "outputs": [],
   "source": [
    "def Gr(xy):\n",
    "    x, y = xy\n",
    "    der = np.zeros_like(xy)\n",
    "    der[0] = -1\n",
    "    der[1] = -a\n",
    "    return der"
   ]
  },
  {
   "cell_type": "code",
   "execution_count": 18,
   "id": "afd4dbdd",
   "metadata": {
    "pycharm": {
     "name": "#%%\n"
    }
   },
   "outputs": [
    {
     "name": "stdout",
     "output_type": "stream",
     "text": [
      "Optimization terminated successfully    (Exit mode 0)\n",
      "            Current function value: -24.66666666666821\n",
      "            Iterations: 5\n",
      "            Function evaluations: 5\n",
      "            Gradient evaluations: 5\n",
      "[-4.66666667  7.33333333]\n"
     ]
    }
   ],
   "source": [
    "#Вводим ограничения\n",
    "linear_constraints = [LinearConstraint([1, 2], -np.inf, 10),\n",
    "                      LinearConstraint([3, 2], -np.inf, 18),\n",
    "                      LinearConstraint([1, -1], -b, np.inf),\n",
    "                      LinearConstraint([c, -1], -np.inf, 8*c + 3)]\n",
    "\n",
    "x0 = np.array([1.0, 1.0])\n",
    "\n",
    "#Здесь нужно максимизировать функцию, поэтому необходимо минимизировать обратную ей (-f). \n",
    "res = minimize(F, x0, jac=Gr, constraints=linear_constraints, options={'disp': True})\n",
    "u = res.x[0]\n",
    "v = res.x[1]\n",
    "F_max = -res.fun\n",
    "print(res.x)"
   ]
  },
  {
   "cell_type": "code",
   "execution_count": 19,
   "id": "0a76175c",
   "metadata": {
    "pycharm": {
     "name": "#%%\n"
    }
   },
   "outputs": [
    {
     "name": "stdout",
     "output_type": "stream",
     "text": [
      "Оптимальные значения: x = -4.667, y = 7.333\n",
      "Max значение функции: 24.667\n"
     ]
    }
   ],
   "source": [
    "print(f'Оптимальные значения: x = {u.round(3)}, y = {v.round(3)}')\n",
    "print('Max значение функции:',F_max.round(3))"
   ]
  },
  {
   "cell_type": "code",
   "execution_count": 23,
   "id": "315f77b7",
   "metadata": {
    "pycharm": {
     "name": "#%%\n"
    }
   },
   "outputs": [],
   "source": [
    "# 2x2 <= 10-x1\n",
    "y1 = (10-x)/2.0\n",
    "# 2x2 <= 18-3x1 \n",
    "y2 = (18-3*x)/2.0\n",
    "# x2 <= x1+b\n",
    "y3 = x+b\n",
    "# x2 >= cx1-8c -3 \n",
    "y4 = c*x-8*c-3\n",
    "#F(x, y)/a - x/a\n",
    "y5 = F_max/a - x/a\n",
    "y6 = 4/a - x/a"
   ]
  },
  {
   "cell_type": "code",
   "execution_count": 25,
   "id": "2d8e4e3c",
   "metadata": {
    "pycharm": {
     "name": "#%%\n"
    }
   },
   "outputs": [
    {
     "data": {
      "image/png": "[encoded data removed]",
      "text/plain": [
       "<Figure size 432x288 with 1 Axes>"
      ]
     },
     "metadata": {
      "needs_background": "light"
     },
     "output_type": "display_data"
    }
   ],
   "source": [
    "d = np.linspace(-20,20,300)\n",
    "x,y = np.meshgrid(d,d)\n",
    "plt.imshow( ((2*y<=10-x) & (2*y<=18-3*x) & (y<=x+b) & (y>=c*x-8*c-3)).astype(int) , \n",
    "                extent=(x.min(),x.max(),y.min(),y.max()),origin=\"lower\", cmap=\"Greys\", alpha = 0.3);\n",
    "x = np.linspace(-20, 20, 2000)\n",
    "\n",
    "plt.plot(x, y1, label=r'$2y\\leq 10-x$')\n",
    "plt.plot(x, y2, label=r'$2y\\leq 18-3x$')\n",
    "plt.plot(x, y3, label=fr'$y\\leq x + {b}$')\n",
    "plt.plot(x, y4, label=fr'$y\\geq {c}(x-8)-3$')\n",
    "plt.plot(x, y5, label=f'F={F_max.round(3)}')\n",
    "plt.plot(x, y6, label='F=4')\n",
    "plt.xlim(-20,20)\n",
    "plt.ylim(-10,10)\n",
    "plt.plot(u, v, 'ko')\n",
    "plt.text(u + 1, v + 1, f'M*({u.round(3)}, {v.round(3)})')\n",
    "plt.legend(bbox_to_anchor=(1.05, 1), loc=2, borderaxespad=0.)\n",
    "plt.xlabel(r'$x$')\n",
    "plt.ylabel(r'$y$')\n",
    "plt.show()"
   ]
  },
  {
   "cell_type": "code",
   "execution_count": null,
   "id": "9acd5278",
   "metadata": {
    "pycharm": {
     "name": "#%%\n"
    }
   },
   "outputs": [],
   "source": []
  }
 ],
 "metadata": {
  "interpreter": {
   "hash": "95825280d46be1c77c50240cbdd62d49105ab763506cd079c14e5b5bcade1105"
  },
  "kernelspec": {
   "display_name": "Python 3 (ipykernel)",
   "language": "python",
   "name": "python3"
  },
  "language_info": {
   "codemirror_mode": {
    "name": "ipython",
    "version": 3
   },
   "file_extension": ".py",
   "mimetype": "text/x-python",
   "name": "python",
   "nbconvert_exporter": "python",
   "pygments_lexer": "ipython3",
   "version": "3.9.2"
  }
 },
 "nbformat": 4,
 "nbformat_minor": 5
}