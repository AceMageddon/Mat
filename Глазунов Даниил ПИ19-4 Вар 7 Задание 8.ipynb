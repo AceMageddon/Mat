{
 "cells": [
  {
   "cell_type": "code",
   "execution_count": 1,
   "outputs": [
    {
     "ename": "ModuleNotFoundError",
     "evalue": "No module named 'pulp'",
     "output_type": "error",
     "traceback": [
      "\u001B[1;31m---------------------------------------------------------------------------\u001B[0m",
      "\u001B[1;31mModuleNotFoundError\u001B[0m                       Traceback (most recent call last)",
      "\u001B[1;32m<ipython-input-1-1dcb2e0dba26>\u001B[0m in \u001B[0;36m<module>\u001B[1;34m\u001B[0m\n\u001B[1;32m----> 1\u001B[1;33m \u001B[1;32mfrom\u001B[0m \u001B[0mpulp\u001B[0m \u001B[1;32mimport\u001B[0m \u001B[0mLpProblem\u001B[0m\u001B[1;33m,\u001B[0m \u001B[0mLpVariable\u001B[0m\u001B[1;33m,\u001B[0m \u001B[0mLpMaximize\u001B[0m\u001B[1;33m\u001B[0m\u001B[1;33m\u001B[0m\u001B[0m\n\u001B[0m\u001B[0;32m      2\u001B[0m \u001B[1;32mimport\u001B[0m \u001B[0mnumpy\u001B[0m \u001B[1;32mas\u001B[0m \u001B[0mnp\u001B[0m\u001B[1;33m\u001B[0m\u001B[1;33m\u001B[0m\u001B[0m\n",
      "\u001B[1;31mModuleNotFoundError\u001B[0m: No module named 'pulp'"
     ]
    }
   ],
   "source": [
    "from pulp import LpProblem, LpVariable, LpMaximize\n",
    "import numpy as np"
   ],
   "metadata": {
    "collapsed": false,
    "pycharm": {
     "name": "#%%\n"
    }
   }
  },
  {
   "cell_type": "code",
   "execution_count": 19,
   "outputs": [],
   "source": [
    "model = LpProblem(\"Game\", LpMaximize)"
   ],
   "metadata": {
    "collapsed": false,
    "pycharm": {
     "name": "#%%\n"
    }
   }
  },
  {
   "cell_type": "code",
   "execution_count": 20,
   "outputs": [],
   "source": [
    "M = np.array([\n",
    "    [3, 1, 5],\n",
    "    [5, 3, 1],\n",
    "    [1, 5, 3]\n",
    "])"
   ],
   "metadata": {
    "collapsed": false,
    "pycharm": {
     "name": "#%%\n"
    }
   }
  },
  {
   "cell_type": "code",
   "execution_count": 21,
   "outputs": [],
   "source": [
    "w1 = LpVariable('w1', lowBound=0)\n",
    "w2 = LpVariable('w2', lowBound=0)\n",
    "w3 = LpVariable('w3', lowBound=0)\n",
    "W = np.array([w1, w2, w3])\n",
    "le = np.vectorize(lambda x, y: x <= y)\n",
    "F = (W).sum()\n",
    "C = le((W * M).sum(axis=1), 1)"
   ],
   "metadata": {
    "collapsed": false,
    "pycharm": {
     "name": "#%%\n"
    }
   }
  },
  {
   "cell_type": "code",
   "execution_count": 22,
   "outputs": [],
   "source": [
    "model += F\n",
    "for constraint in C:\n",
    "    model += constraint"
   ],
   "metadata": {
    "collapsed": false,
    "pycharm": {
     "name": "#%%\n"
    }
   }
  },
  {
   "cell_type": "code",
   "execution_count": 23,
   "outputs": [
    {
     "data": {
      "text/plain": "Game:\nMAXIMIZE\n1*w1 + 1*w2 + 1*w3 + 0\nSUBJECT TO\n_C1: 3 w1 + w2 + 5 w3 <= 1\n\n_C2: 5 w1 + 3 w2 + w3 <= 1\n\n_C3: w1 + 5 w2 + 3 w3 <= 1\n\nVARIABLES\nw1 Continuous\nw2 Continuous\nw3 Continuous"
     },
     "execution_count": 23,
     "metadata": {},
     "output_type": "execute_result"
    }
   ],
   "source": [
    "model"
   ],
   "metadata": {
    "collapsed": false,
    "pycharm": {
     "name": "#%%\n"
    }
   }
  },
  {
   "cell_type": "code",
   "execution_count": 24,
   "outputs": [
    {
     "data": {
      "text/plain": "1"
     },
     "execution_count": 24,
     "metadata": {},
     "output_type": "execute_result"
    }
   ],
   "source": [
    "model.solve()"
   ],
   "metadata": {
    "collapsed": false,
    "pycharm": {
     "name": "#%%\n"
    }
   }
  },
  {
   "cell_type": "code",
   "execution_count": 25,
   "outputs": [
    {
     "data": {
      "text/plain": "3.0000000300000003"
     },
     "execution_count": 25,
     "metadata": {},
     "output_type": "execute_result"
    }
   ],
   "source": [
    "opt = np.array(list(map(lambda x: x.value(), model.variables())))\n",
    "v = 1 / opt.sum()\n",
    "v"
   ],
   "metadata": {
    "collapsed": false,
    "pycharm": {
     "name": "#%%\n"
    }
   }
  },
  {
   "cell_type": "code",
   "execution_count": 26,
   "outputs": [
    {
     "data": {
      "text/plain": "array([0.33333333, 0.33333333, 0.33333333])"
     },
     "execution_count": 26,
     "metadata": {},
     "output_type": "execute_result"
    }
   ],
   "source": [
    "opt = opt / opt.sum()\n",
    "opt"
   ],
   "metadata": {
    "collapsed": false,
    "pycharm": {
     "name": "#%%\n"
    }
   }
  },
  {
   "cell_type": "code",
   "execution_count": 27,
   "outputs": [
    {
     "name": "stdout",
     "output_type": "stream",
     "text": [
      "X∗=[0.33333333 0.33333333 0.33333333] – Оптимальная стратегия 1-го игрока, \n",
      "Y∗=[0.33333333 0.33333333 0.33333333] – Оптимальная стратегия 2-го игрока,\n",
      "νA = 3.0000000300000003 – Цена игры.\n"
     ]
    }
   ],
   "source": [
    "print(f'X∗={opt} – Оптимальная стратегия 1-го игрока, \\n'\n",
    "      f'Y∗={opt} – Оптимальная стратегия 2-го игрока,\\n'\n",
    "      f'νA = {v} – Цена игры.')"
   ],
   "metadata": {
    "collapsed": false,
    "pycharm": {
     "name": "#%%\n"
    }
   }
  }
 ],
 "metadata": {
  "kernelspec": {
   "display_name": "Python 3",
   "language": "python",
   "name": "python3"
  },
  "language_info": {
   "codemirror_mode": {
    "name": "ipython",
    "version": 2
   },
   "file_extension": ".py",
   "mimetype": "text/x-python",
   "name": "python",
   "nbconvert_exporter": "python",
   "pygments_lexer": "ipython2",
   "version": "2.7.6"
  }
 },
 "nbformat": 4,
 "nbformat_minor": 0
}