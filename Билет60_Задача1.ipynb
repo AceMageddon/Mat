{
 "cells": [
  {
   "cell_type": "code",
   "execution_count": 17,
   "id": "65851b93",
   "metadata": {},
   "outputs": [],
   "source": [
    "import numpy as np\n",
    "import pandas as pd\n",
    "from scipy.optimize import Bounds, linprog\n",
    "np.set_printoptions(suppress=True)"
   ]
  },
  {
   "cell_type": "code",
   "execution_count": 18,
   "id": "f586bfa4",
   "metadata": {},
   "outputs": [
    {
     "name": "stdout",
     "output_type": "stream",
     "text": [
      "[[16 18  9  1]\n",
      " [13 16 18  9]\n",
      " [14 23 12  7]]\n"
     ]
    }
   ],
   "source": [
    "np.set_printoptions(suppress=True)\n",
    "C = np.matrix([[16, 18, 9, 1],\n",
    "    [13, 16, 18, 9],\n",
    "    [14, 23, 12, 7]])\n",
    "print(C)"
   ]
  },
  {
   "cell_type": "code",
   "execution_count": 19,
   "id": "4129f974",
   "metadata": {},
   "outputs": [],
   "source": [
    "a1=70\n",
    "a2=50\n",
    "a3=240"
   ]
  },
  {
   "cell_type": "code",
   "execution_count": 20,
   "id": "fd9fa466",
   "metadata": {},
   "outputs": [],
   "source": [
    "A = np.array([a1, a2, a3])"
   ]
  },
  {
   "cell_type": "code",
   "execution_count": 21,
   "id": "f762774c",
   "metadata": {},
   "outputs": [],
   "source": [
    "b1=100\n",
    "b2=10\n",
    "b3=70\n",
    "b4=160"
   ]
  },
  {
   "cell_type": "code",
   "execution_count": 22,
   "id": "7526ed46",
   "metadata": {},
   "outputs": [],
   "source": [
    "B = np.array([b1, b2, b3, b4])"
   ]
  },
  {
   "cell_type": "code",
   "execution_count": 23,
   "id": "9b347c95",
   "metadata": {},
   "outputs": [],
   "source": [
    "N = len(A)\n",
    "M = len(B)"
   ]
  },
  {
   "cell_type": "code",
   "execution_count": 24,
   "id": "7101feb7",
   "metadata": {},
   "outputs": [
    {
     "data": {
      "text/html": [
       "<div>\n",
       "<style scoped>\n",
       "    .dataframe tbody tr th:only-of-type {\n",
       "        vertical-align: middle;\n",
       "    }\n",
       "\n",
       "    .dataframe tbody tr th {\n",
       "        vertical-align: top;\n",
       "    }\n",
       "\n",
       "    .dataframe thead th {\n",
       "        text-align: right;\n",
       "    }\n",
       "</style>\n",
       "<table border=\"1\" class=\"dataframe\">\n",
       "  <thead>\n",
       "    <tr style=\"text-align: right;\">\n",
       "      <th>aᵢ \\ bⱼ</th>\n",
       "      <th>100</th>\n",
       "      <th>10</th>\n",
       "      <th>70</th>\n",
       "      <th>160</th>\n",
       "    </tr>\n",
       "  </thead>\n",
       "  <tbody>\n",
       "    <tr>\n",
       "      <th>70</th>\n",
       "      <td>16</td>\n",
       "      <td>18</td>\n",
       "      <td>9</td>\n",
       "      <td>1</td>\n",
       "    </tr>\n",
       "    <tr>\n",
       "      <th>50</th>\n",
       "      <td>13</td>\n",
       "      <td>16</td>\n",
       "      <td>18</td>\n",
       "      <td>9</td>\n",
       "    </tr>\n",
       "    <tr>\n",
       "      <th>240</th>\n",
       "      <td>14</td>\n",
       "      <td>23</td>\n",
       "      <td>12</td>\n",
       "      <td>7</td>\n",
       "    </tr>\n",
       "  </tbody>\n",
       "</table>\n",
       "</div>"
      ],
      "text/plain": [
       "aᵢ \\ bⱼ  100  10   70   160\n",
       "70        16   18    9    1\n",
       "50        13   16   18    9\n",
       "240       14   23   12    7"
      ]
     },
     "execution_count": 24,
     "metadata": {},
     "output_type": "execute_result"
    }
   ],
   "source": [
    "df = pd.DataFrame(C, columns=B, index=A)\n",
    "df.columns.name = 'aᵢ \\\\ bⱼ'\n",
    "df"
   ]
  },
  {
   "cell_type": "code",
   "execution_count": 25,
   "id": "7c7891d1",
   "metadata": {},
   "outputs": [
    {
     "name": "stdout",
     "output_type": "stream",
     "text": [
      "Задача открытого типа\n"
     ]
    }
   ],
   "source": [
    "df\n",
    "if sum(A) == sum(B):\n",
    "    print('Задача закрытого типа')\n",
    "else:\n",
    "    print('Задача открытого типа')"
   ]
  },
  {
   "cell_type": "code",
   "execution_count": 26,
   "id": "c2f4d62a",
   "metadata": {},
   "outputs": [],
   "source": [
    "P = np.zeros_like(C)\n",
    "INF = 1_000_000_007\n",
    "C_ = C.copy()\n",
    "A_ = A.copy()\n",
    "B_ = B.copy()\n",
    "i = 0\n",
    "j = 0"
   ]
  },
  {
   "cell_type": "code",
   "execution_count": 27,
   "id": "2573eeb8",
   "metadata": {},
   "outputs": [
    {
     "name": "stdout",
     "output_type": "stream",
     "text": [
      "Опорный план вырожденный\n"
     ]
    }
   ],
   "source": [
    "while not np.all(C_ == INF):\n",
    "    i, j = np.unravel_index(C_.argmin(), C_.shape)\n",
    "    if A_[i] <= B_[j]:\n",
    "        C_[i].fill(INF)\n",
    "        B_[j] -= A_[i]\n",
    "        A_[i] = 0\n",
    "    else:\n",
    "        C_[:, j].fill(INF)\n",
    "        A_[i] -= B[j]\n",
    "        B_[j] = 0\n",
    "if np.count_nonzero(P) != N + M - 1:\n",
    "    print('Опорный план вырожденный')\n",
    "else:\n",
    "    print('Опорный план невырожденный')"
   ]
  },
  {
   "cell_type": "code",
   "execution_count": 28,
   "id": "5ef84cc2",
   "metadata": {},
   "outputs": [
    {
     "name": "stdout",
     "output_type": "stream",
     "text": [
      "Primal Feasibility  Dual Feasibility    Duality Gap         Step             Path Parameter      Objective          \n",
      "1.0                 1.0                 1.0                 -                1.0                 156.0               \n",
      "0.2695701906645     0.2695701906645     0.2695701906645     0.73931049326    0.2695701906645     335.6235664662      \n",
      "0.08047589481726    0.08047589481722    0.08047589481723    0.7222414541311  0.0804758948174     1066.36664975       \n",
      "0.01244187161672    0.01244187161671    0.01244187161671    0.860039708023   0.01244187161675    2397.421064116      \n",
      "0.002536855492748   0.002536855492747   0.002536855492747   0.8102648178974  0.002536855492743   2893.953603511      \n",
      "2.023444286913e-06  2.023444286892e-06  2.023444286712e-06  0.9995189939702  2.02344428751e-06   3059.855698593      \n",
      "1.011776363161e-10  1.011776487513e-10  1.011777554873e-10  0.9999499973151  1.011770611689e-10  3059.999992784      \n",
      "Optimization terminated successfully.\n",
      "         Current function value: 3059.999993 \n",
      "         Iterations: 6\n"
     ]
    }
   ],
   "source": [
    "#A_ma1 - матрица коэфициентов\n",
    "#x <= B_ma1 (E @ x <= A)\n",
    "A_ma1 = np.array([[1 if i in range(j*M, M*(j+1)) else 0 for i in range(N*M)] for j in range(N)])\n",
    "B_ma1 = A\n",
    "\n",
    "#A_ma2 - матрица коэфициентов\n",
    "#x = B_ma2 (E @ x = B)\n",
    "A_ma2 = np.array([[1 if i % M == j else 0 for i in range(N*M)] for j in range(M)])\n",
    "B_ma2 = B\n",
    "\n",
    "res = linprog(C.flatten(), A_ma1, B_ma1, A_ma2, B_ma2, options={'disp': True})\n",
    "X = res.x.round(3).reshape(N, M)\n",
    "F_min = res.fun.round(3)"
   ]
  },
  {
   "cell_type": "code",
   "execution_count": 29,
   "id": "fb9deddf",
   "metadata": {},
   "outputs": [
    {
     "name": "stdout",
     "output_type": "stream",
     "text": [
      "Оптимальный план перевозки груза:\n"
     ]
    },
    {
     "data": {
      "text/plain": [
       "array([[ 0.,  0.,  0., 70.],\n",
       "       [40., 10.,  0.,  0.],\n",
       "       [60.,  0., 70., 90.]])"
      ]
     },
     "execution_count": 29,
     "metadata": {},
     "output_type": "execute_result"
    }
   ],
   "source": [
    "print('Оптимальный план перевозки груза:')\n",
    "X"
   ]
  },
  {
   "cell_type": "code",
   "execution_count": 30,
   "id": "28853255",
   "metadata": {},
   "outputs": [
    {
     "name": "stdout",
     "output_type": "stream",
     "text": [
      "Оптимальная стоимость перевозки:\n"
     ]
    },
    {
     "data": {
      "text/plain": [
       "3060.0"
      ]
     },
     "execution_count": 30,
     "metadata": {},
     "output_type": "execute_result"
    }
   ],
   "source": [
    "print('Оптимальная стоимость перевозки:')\n",
    "F_min"
   ]
  },
  {
   "cell_type": "code",
   "execution_count": null,
   "id": "250fab65",
   "metadata": {},
   "outputs": [],
   "source": []
  },
  {
   "cell_type": "code",
   "execution_count": null,
   "id": "4dfd1322",
   "metadata": {},
   "outputs": [],
   "source": []
  }
 ],
 "metadata": {
  "kernelspec": {
   "display_name": "Python 3",
   "language": "python",
   "name": "python3"
  },
  "language_info": {
   "codemirror_mode": {
    "name": "ipython",
    "version": 3
   },
   "file_extension": ".py",
   "mimetype": "text/x-python",
   "name": "python",
   "nbconvert_exporter": "python",
   "pygments_lexer": "ipython3",
   "version": "3.8.10"
  }
 },
 "nbformat": 4,
 "nbformat_minor": 5
}
