{
 "cells": [
  {
   "cell_type": "code",
   "execution_count": 1,
   "id": "6781ae95",
   "metadata": {},
   "outputs": [],
   "source": [
    "import numpy as np\n",
    "import pandas as pd\n",
    "from scipy.optimize import Bounds, linprog\n",
    "np.set_printoptions(suppress=True)"
   ]
  },
  {
   "cell_type": "code",
   "execution_count": 2,
   "id": "13284b11",
   "metadata": {},
   "outputs": [
    {
     "name": "stdout",
     "output_type": "stream",
     "text": [
      "[[16 18  9  1]\n",
      " [13 16 18  9]\n",
      " [14 23 12  7]]\n"
     ]
    }
   ],
   "source": [
    "np.set_printoptions(suppress=True)\n",
    "C = np.matrix([[16, 18, 9, 1],\n",
    "    [13, 16, 18, 9],\n",
    "    [14, 23, 12, 7]])\n",
    "print(C)"
   ]
  },
  {
   "cell_type": "code",
   "execution_count": 3,
   "id": "83a6dcb6",
   "metadata": {},
   "outputs": [],
   "source": [
    "a1=70\n",
    "a2=50\n",
    "a3=240"
   ]
  },
  {
   "cell_type": "code",
   "execution_count": 4,
   "id": "8b833fed",
   "metadata": {},
   "outputs": [],
   "source": [
    "A = np.array([a1, a2, a3])"
   ]
  },
  {
   "cell_type": "code",
   "execution_count": 5,
   "id": "6f682712",
   "metadata": {},
   "outputs": [],
   "source": [
    "b1=100\n",
    "b2=10\n",
    "b3=70\n",
    "b4=160"
   ]
  },
  {
   "cell_type": "code",
   "execution_count": 6,
   "id": "0fe27b15",
   "metadata": {},
   "outputs": [],
   "source": [
    "B = np.array([b1, b2, b3, b4])"
   ]
  },
  {
   "cell_type": "code",
   "execution_count": 7,
   "id": "1c21ddb5",
   "metadata": {},
   "outputs": [],
   "source": [
    "N = len(A)\n",
    "M = len(B)"
   ]
  },
  {
   "cell_type": "code",
   "execution_count": 8,
   "id": "3c766aec",
   "metadata": {},
   "outputs": [
    {
     "data": {
      "text/html": [
       "<div>\n",
       "<style scoped>\n",
       "    .dataframe tbody tr th:only-of-type {\n",
       "        vertical-align: middle;\n",
       "    }\n",
       "\n",
       "    .dataframe tbody tr th {\n",
       "        vertical-align: top;\n",
       "    }\n",
       "\n",
       "    .dataframe thead th {\n",
       "        text-align: right;\n",
       "    }\n",
       "</style>\n",
       "<table border=\"1\" class=\"dataframe\">\n",
       "  <thead>\n",
       "    <tr style=\"text-align: right;\">\n",
       "      <th>aᵢ \\ bⱼ</th>\n",
       "      <th>100</th>\n",
       "      <th>10</th>\n",
       "      <th>70</th>\n",
       "      <th>160</th>\n",
       "    </tr>\n",
       "  </thead>\n",
       "  <tbody>\n",
       "    <tr>\n",
       "      <th>70</th>\n",
       "      <td>16</td>\n",
       "      <td>18</td>\n",
       "      <td>9</td>\n",
       "      <td>1</td>\n",
       "    </tr>\n",
       "    <tr>\n",
       "      <th>50</th>\n",
       "      <td>13</td>\n",
       "      <td>16</td>\n",
       "      <td>18</td>\n",
       "      <td>9</td>\n",
       "    </tr>\n",
       "    <tr>\n",
       "      <th>240</th>\n",
       "      <td>14</td>\n",
       "      <td>23</td>\n",
       "      <td>12</td>\n",
       "      <td>7</td>\n",
       "    </tr>\n",
       "  </tbody>\n",
       "</table>\n",
       "</div>"
      ],
      "text/plain": [
       "aᵢ \\ bⱼ  100  10   70   160\n",
       "70        16   18    9    1\n",
       "50        13   16   18    9\n",
       "240       14   23   12    7"
      ]
     },
     "execution_count": 8,
     "metadata": {},
     "output_type": "execute_result"
    }
   ],
   "source": [
    "df = pd.DataFrame(C, columns=B, index=A)\n",
    "df.columns.name = 'aᵢ \\\\ bⱼ'\n",
    "df"
   ]
  },
  {
   "cell_type": "code",
   "execution_count": 9,
   "id": "c6442dd6",
   "metadata": {},
   "outputs": [
    {
     "name": "stdout",
     "output_type": "stream",
     "text": [
      "Задача открытого типа\n"
     ]
    }
   ],
   "source": [
    "df\n",
    "if sum(A) == sum(B):\n",
    "    print('Задача закрытого типа')\n",
    "else:\n",
    "    print('Задача открытого типа')"
   ]
  },
  {
   "cell_type": "code",
   "execution_count": 10,
   "id": "b4e71905",
   "metadata": {},
   "outputs": [],
   "source": [
    "P = np.zeros_like(C)\n",
    "INF = 1_000_000_007\n",
    "C_ = C.copy()\n",
    "A_ = A.copy()\n",
    "B_ = B.copy()\n",
    "i = 0\n",
    "j = 0"
   ]
  },
  {
   "cell_type": "code",
   "execution_count": 12,
   "id": "71e66fa9",
   "metadata": {},
   "outputs": [
    {
     "ename": "IndexError",
     "evalue": "index 3 is out of bounds for axis 0 with size 1",
     "output_type": "error",
     "traceback": [
      "\u001b[1;31m---------------------------------------------------------------------------\u001b[0m",
      "\u001b[1;31mIndexError\u001b[0m                                Traceback (most recent call last)",
      "\u001b[1;32m<ipython-input-12-79186d422d72>\u001b[0m in \u001b[0;36m<module>\u001b[1;34m\u001b[0m\n\u001b[0;32m      1\u001b[0m \u001b[1;32mwhile\u001b[0m \u001b[1;32mnot\u001b[0m \u001b[0mnp\u001b[0m\u001b[1;33m.\u001b[0m\u001b[0mall\u001b[0m\u001b[1;33m(\u001b[0m\u001b[0mC_\u001b[0m \u001b[1;33m==\u001b[0m \u001b[0mINF\u001b[0m\u001b[1;33m)\u001b[0m\u001b[1;33m:\u001b[0m\u001b[1;33m\u001b[0m\u001b[1;33m\u001b[0m\u001b[0m\n\u001b[0;32m      2\u001b[0m     \u001b[0mi\u001b[0m\u001b[1;33m,\u001b[0m \u001b[0mj\u001b[0m \u001b[1;33m=\u001b[0m \u001b[0mnp\u001b[0m\u001b[1;33m.\u001b[0m\u001b[0munravel_index\u001b[0m\u001b[1;33m(\u001b[0m\u001b[0mC_\u001b[0m\u001b[1;33m.\u001b[0m\u001b[0margmin\u001b[0m\u001b[1;33m(\u001b[0m\u001b[1;33m)\u001b[0m\u001b[1;33m,\u001b[0m \u001b[0mC_\u001b[0m\u001b[1;33m.\u001b[0m\u001b[0mshape\u001b[0m\u001b[1;33m)\u001b[0m\u001b[1;33m\u001b[0m\u001b[1;33m\u001b[0m\u001b[0m\n\u001b[1;32m----> 3\u001b[1;33m     \u001b[0mP\u001b[0m\u001b[1;33m[\u001b[0m\u001b[0mi\u001b[0m\u001b[1;33m]\u001b[0m\u001b[1;33m[\u001b[0m\u001b[0mj\u001b[0m\u001b[1;33m]\u001b[0m \u001b[1;33m=\u001b[0m \u001b[0mmin\u001b[0m\u001b[1;33m(\u001b[0m\u001b[0mA_\u001b[0m\u001b[1;33m[\u001b[0m\u001b[0mi\u001b[0m\u001b[1;33m]\u001b[0m\u001b[1;33m,\u001b[0m \u001b[0mB_\u001b[0m\u001b[1;33m[\u001b[0m\u001b[0mj\u001b[0m\u001b[1;33m]\u001b[0m\u001b[1;33m)\u001b[0m\u001b[1;33m\u001b[0m\u001b[1;33m\u001b[0m\u001b[0m\n\u001b[0m\u001b[0;32m      4\u001b[0m     \u001b[1;32mif\u001b[0m \u001b[0mA_\u001b[0m\u001b[1;33m[\u001b[0m\u001b[0mi\u001b[0m\u001b[1;33m]\u001b[0m \u001b[1;33m<=\u001b[0m \u001b[0mB_\u001b[0m\u001b[1;33m[\u001b[0m\u001b[0mj\u001b[0m\u001b[1;33m]\u001b[0m\u001b[1;33m:\u001b[0m\u001b[1;33m\u001b[0m\u001b[1;33m\u001b[0m\u001b[0m\n\u001b[0;32m      5\u001b[0m         \u001b[0mC_\u001b[0m\u001b[1;33m[\u001b[0m\u001b[0mi\u001b[0m\u001b[1;33m]\u001b[0m\u001b[1;33m.\u001b[0m\u001b[0mfill\u001b[0m\u001b[1;33m(\u001b[0m\u001b[0mINF\u001b[0m\u001b[1;33m)\u001b[0m\u001b[1;33m\u001b[0m\u001b[1;33m\u001b[0m\u001b[0m\n",
      "\u001b[1;32mC:\\ProgramData\\Anaconda3\\lib\\site-packages\\numpy\\matrixlib\\defmatrix.py\u001b[0m in \u001b[0;36m__getitem__\u001b[1;34m(self, index)\u001b[0m\n\u001b[0;32m    191\u001b[0m \u001b[1;33m\u001b[0m\u001b[0m\n\u001b[0;32m    192\u001b[0m         \u001b[1;32mtry\u001b[0m\u001b[1;33m:\u001b[0m\u001b[1;33m\u001b[0m\u001b[1;33m\u001b[0m\u001b[0m\n\u001b[1;32m--> 193\u001b[1;33m             \u001b[0mout\u001b[0m \u001b[1;33m=\u001b[0m \u001b[0mN\u001b[0m\u001b[1;33m.\u001b[0m\u001b[0mndarray\u001b[0m\u001b[1;33m.\u001b[0m\u001b[0m__getitem__\u001b[0m\u001b[1;33m(\u001b[0m\u001b[0mself\u001b[0m\u001b[1;33m,\u001b[0m \u001b[0mindex\u001b[0m\u001b[1;33m)\u001b[0m\u001b[1;33m\u001b[0m\u001b[1;33m\u001b[0m\u001b[0m\n\u001b[0m\u001b[0;32m    194\u001b[0m         \u001b[1;32mfinally\u001b[0m\u001b[1;33m:\u001b[0m\u001b[1;33m\u001b[0m\u001b[1;33m\u001b[0m\u001b[0m\n\u001b[0;32m    195\u001b[0m             \u001b[0mself\u001b[0m\u001b[1;33m.\u001b[0m\u001b[0m_getitem\u001b[0m \u001b[1;33m=\u001b[0m \u001b[1;32mFalse\u001b[0m\u001b[1;33m\u001b[0m\u001b[1;33m\u001b[0m\u001b[0m\n",
      "\u001b[1;31mIndexError\u001b[0m: index 3 is out of bounds for axis 0 with size 1"
     ]
    }
   ],
   "source": [
    "while not np.all(C_ == INF):\n",
    "    i, j = np.unravel_index(C_.argmin(), C_.shape)\n",
    "    P[i][j] = min(A_[i], B_[j])\n",
    "    if A_[i] <= B_[j]:\n",
    "        C_[i].fill(INF)\n",
    "        B_[j] -= A_[i]\n",
    "        A_[i] = 0\n",
    "    else:\n",
    "        C_[:, j].fill(INF)\n",
    "        A_[i] -= B[j]\n",
    "        B_[j] = 0\n",
    "if np.count_nonzero(P) != N + M - 1:\n",
    "    print('Опорный план вырожденный')\n",
    "else:\n",
    "    print('Опорный план невырожденный')\n",
    "\n",
    "F = 0\n",
    "for i in range(N):\n",
    "    for j in range(M):\n",
    "        F += C[i][j] * P[i][j]\n",
    "print('Полученный план перевозки груза:\\n', P)\n",
    "print('Значение целевой функции для этого опорного плана F =', F)"
   ]
  },
  {
   "cell_type": "code",
   "execution_count": 13,
   "id": "461f93cc",
   "metadata": {},
   "outputs": [
    {
     "name": "stdout",
     "output_type": "stream",
     "text": [
      "Primal Feasibility  Dual Feasibility    Duality Gap         Step             Path Parameter      Objective          \n",
      "1.0                 1.0                 1.0                 -                1.0                 156.0               \n",
      "0.2695701906645     0.2695701906645     0.2695701906645     0.73931049326    0.2695701906645     335.6235664662      \n",
      "0.08047589481726    0.08047589481722    0.08047589481723    0.7222414541311  0.0804758948174     1066.36664975       \n",
      "0.01244187161672    0.01244187161671    0.01244187161671    0.860039708023   0.01244187161675    2397.421064116      \n",
      "0.002536855492748   0.002536855492747   0.002536855492747   0.8102648178974  0.002536855492743   2893.953603511      \n",
      "2.023444286913e-06  2.023444286892e-06  2.023444286712e-06  0.9995189939702  2.02344428751e-06   3059.855698593      \n",
      "1.011776363161e-10  1.011776487513e-10  1.011777554873e-10  0.9999499973151  1.011770611689e-10  3059.999992784      \n",
      "Optimization terminated successfully.\n",
      "         Current function value: 3059.999993 \n",
      "         Iterations: 6\n"
     ]
    }
   ],
   "source": [
    "#A_ma1 - матрица коэфициентов\n",
    "#x <= B_ma1 (E @ x <= A)\n",
    "A_ma1 = np.array([[1 if i in range(j*M, M*(j+1)) else 0 for i in range(N*M)] for j in range(N)])\n",
    "B_ma1 = A\n",
    "\n",
    "#A_ma2 - матрица коэфициентов\n",
    "#x = B_ma2 (E @ x = B)\n",
    "A_ma2 = np.array([[1 if i % M == j else 0 for i in range(N*M)] for j in range(M)])\n",
    "B_ma2 = B\n",
    "\n",
    "res = linprog(C.flatten(), A_ma1, B_ma1, A_ma2, B_ma2, options={'disp': True})\n",
    "X = res.x.round(3).reshape(N, M)\n",
    "F_min = res.fun.round(3)"
   ]
  },
  {
   "cell_type": "code",
   "execution_count": 14,
   "id": "cbd23f98",
   "metadata": {},
   "outputs": [
    {
     "name": "stdout",
     "output_type": "stream",
     "text": [
      "Оптимальный план перевозки груза:\n"
     ]
    },
    {
     "data": {
      "text/plain": [
       "array([[ 0.,  0.,  0., 70.],\n",
       "       [40., 10.,  0.,  0.],\n",
       "       [60.,  0., 70., 90.]])"
      ]
     },
     "execution_count": 14,
     "metadata": {},
     "output_type": "execute_result"
    }
   ],
   "source": [
    "print('Оптимальный план перевозки груза:')\n",
    "X"
   ]
  },
  {
   "cell_type": "code",
   "execution_count": 15,
   "id": "c257a897",
   "metadata": {},
   "outputs": [
    {
     "name": "stdout",
     "output_type": "stream",
     "text": [
      "Оптимальная стоимость перевозки:\n"
     ]
    },
    {
     "data": {
      "text/plain": [
       "3060.0"
      ]
     },
     "execution_count": 15,
     "metadata": {},
     "output_type": "execute_result"
    }
   ],
   "source": [
    "print('Оптимальная стоимость перевозки:')\n",
    "F_min"
   ]
  },
  {
   "cell_type": "code",
   "execution_count": null,
   "id": "1df31ee2",
   "metadata": {},
   "outputs": [],
   "source": []
  },
  {
   "cell_type": "code",
   "execution_count": null,
   "id": "5c250f99",
   "metadata": {},
   "outputs": [],
   "source": []
  }
 ],
 "metadata": {
  "kernelspec": {
   "display_name": "Python 3",
   "language": "python",
   "name": "python3"
  },
  "language_info": {
   "codemirror_mode": {
    "name": "ipython",
    "version": 3
   },
   "file_extension": ".py",
   "mimetype": "text/x-python",
   "name": "python",
   "nbconvert_exporter": "python",
   "pygments_lexer": "ipython3",
   "version": "3.8.10"
  }
 },
 "nbformat": 4,
 "nbformat_minor": 5
}
