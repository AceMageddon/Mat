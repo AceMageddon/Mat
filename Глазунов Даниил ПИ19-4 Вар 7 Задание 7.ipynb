{
 "cells": [
  {
   "cell_type": "markdown",
   "id": "627ca24d",
   "metadata": {
    "pycharm": {
     "name": "#%% md\n"
    }
   },
   "source": [
    "Вариант 7 Глазунов Даниил ПИ19-4"
   ]
  },
  {
   "cell_type": "code",
   "execution_count": 24,
   "id": "55eda7aa",
   "metadata": {
    "pycharm": {
     "name": "#%%\n"
    }
   },
   "outputs": [],
   "source": [
    "import numpy as np\n",
    "import pandas as pd\n",
    "from scipy.optimize import Bounds, linprog\n",
    "np.set_printoptions(suppress=True)"
   ]
  },
  {
   "cell_type": "code",
   "execution_count": 25,
   "id": "6cfdb12c",
   "metadata": {
    "scrolled": true,
    "pycharm": {
     "name": "#%%\n"
    }
   },
   "outputs": [
    {
     "name": "stdout",
     "output_type": "stream",
     "text": [
      "[[10  3  6 10  4]\n",
      " [16 12  8 13  7]\n",
      " [ 5  9 15 18 22]]\n"
     ]
    }
   ],
   "source": [
    "C = np.matrix([[10, 3, 6, 10, 4],[16,12,8,13,7],[5,9,15,18,22]])\n",
    "print(C)"
   ]
  },
  {
   "cell_type": "code",
   "execution_count": 26,
   "id": "4b5568ed",
   "metadata": {
    "pycharm": {
     "name": "#%%\n"
    }
   },
   "outputs": [],
   "source": [
    "a1=250\n",
    "a2=400\n",
    "a3=280"
   ]
  },
  {
   "cell_type": "code",
   "execution_count": 27,
   "id": "d04bf1a9",
   "metadata": {
    "pycharm": {
     "name": "#%%\n"
    }
   },
   "outputs": [],
   "source": [
    "A = np.array([a1, a2, a3])"
   ]
  },
  {
   "cell_type": "code",
   "execution_count": 28,
   "id": "126ccc8b",
   "metadata": {
    "pycharm": {
     "name": "#%%\n"
    }
   },
   "outputs": [],
   "source": [
    "b1=160\n",
    "b2=110\n",
    "b3=220\n",
    "b4=270\n",
    "b5=170"
   ]
  },
  {
   "cell_type": "code",
   "execution_count": 29,
   "id": "f364a55a",
   "metadata": {
    "pycharm": {
     "name": "#%%\n"
    }
   },
   "outputs": [],
   "source": [
    "B = np.array([b1, b2, b3, b4, b5])"
   ]
  },
  {
   "cell_type": "code",
   "execution_count": 30,
   "id": "27843ed2",
   "metadata": {
    "pycharm": {
     "name": "#%%\n"
    }
   },
   "outputs": [],
   "source": [
    "N = len(A)\n",
    "M = len(B)"
   ]
  },
  {
   "cell_type": "code",
   "execution_count": 31,
   "id": "e0a9c5e6",
   "metadata": {
    "pycharm": {
     "name": "#%%\n"
    }
   },
   "outputs": [
    {
     "data": {
      "text/html": [
       "<div>\n",
       "<style scoped>\n",
       "    .dataframe tbody tr th:only-of-type {\n",
       "        vertical-align: middle;\n",
       "    }\n",
       "\n",
       "    .dataframe tbody tr th {\n",
       "        vertical-align: top;\n",
       "    }\n",
       "\n",
       "    .dataframe thead th {\n",
       "        text-align: right;\n",
       "    }\n",
       "</style>\n",
       "<table border=\"1\" class=\"dataframe\">\n",
       "  <thead>\n",
       "    <tr style=\"text-align: right;\">\n",
       "      <th>aᵢ \\ bⱼ</th>\n",
       "      <th>160</th>\n",
       "      <th>110</th>\n",
       "      <th>220</th>\n",
       "      <th>270</th>\n",
       "      <th>170</th>\n",
       "    </tr>\n",
       "  </thead>\n",
       "  <tbody>\n",
       "    <tr>\n",
       "      <th>250</th>\n",
       "      <td>10</td>\n",
       "      <td>3</td>\n",
       "      <td>6</td>\n",
       "      <td>10</td>\n",
       "      <td>4</td>\n",
       "    </tr>\n",
       "    <tr>\n",
       "      <th>400</th>\n",
       "      <td>16</td>\n",
       "      <td>12</td>\n",
       "      <td>8</td>\n",
       "      <td>13</td>\n",
       "      <td>7</td>\n",
       "    </tr>\n",
       "    <tr>\n",
       "      <th>280</th>\n",
       "      <td>5</td>\n",
       "      <td>9</td>\n",
       "      <td>15</td>\n",
       "      <td>18</td>\n",
       "      <td>22</td>\n",
       "    </tr>\n",
       "  </tbody>\n",
       "</table>\n",
       "</div>"
      ],
      "text/plain": [
       "aᵢ \\ bⱼ  160  110  220  270  170\n",
       "250       10    3    6   10    4\n",
       "400       16   12    8   13    7\n",
       "280        5    9   15   18   22"
      ]
     },
     "execution_count": 31,
     "metadata": {},
     "output_type": "execute_result"
    }
   ],
   "source": [
    "df = pd.DataFrame(C, columns=B, index=A)\n",
    "df.columns.name = 'aᵢ \\\\ bⱼ'\n",
    "df"
   ]
  },
  {
   "cell_type": "code",
   "execution_count": 32,
   "id": "0fbcdb41",
   "metadata": {
    "pycharm": {
     "name": "#%%\n"
    }
   },
   "outputs": [
    {
     "name": "stdout",
     "output_type": "stream",
     "text": [
      "Задача закрытого типа\n"
     ]
    }
   ],
   "source": [
    "if sum(A) == sum(B):\n",
    "    print('Задача закрытого типа')\n",
    "else:\n",
    "    print('Задача открытого типа')"
   ]
  },
  {
   "cell_type": "markdown",
   "id": "42e27a16",
   "metadata": {
    "pycharm": {
     "name": "#%% md\n"
    }
   },
   "source": [
    "План перевозки груза"
   ]
  },
  {
   "cell_type": "code",
   "execution_count": 33,
   "id": "bc022b12",
   "metadata": {
    "pycharm": {
     "name": "#%%\n"
    }
   },
   "outputs": [],
   "source": [
    "P = np.zeros_like(C)\n",
    "INF = 1_000_000_007\n",
    "C_ = C.copy()\n",
    "A_ = A.copy()\n",
    "B_ = B.copy()\n",
    "i = 0\n",
    "j = 0"
   ]
  },
  {
   "cell_type": "code",
   "execution_count": 34,
   "id": "7e2569aa",
   "metadata": {
    "pycharm": {
     "name": "#%%\n"
    }
   },
   "outputs": [
    {
     "ename": "IndexError",
     "evalue": "index 1 is out of bounds for axis 0 with size 1",
     "output_type": "error",
     "traceback": [
      "\u001B[1;31m---------------------------------------------------------------------------\u001B[0m",
      "\u001B[1;31mIndexError\u001B[0m                                Traceback (most recent call last)",
      "Input \u001B[1;32mIn [34]\u001B[0m, in \u001B[0;36m<cell line: 1>\u001B[1;34m()\u001B[0m\n\u001B[0;32m      1\u001B[0m \u001B[38;5;28;01mwhile\u001B[39;00m \u001B[38;5;129;01mnot\u001B[39;00m np\u001B[38;5;241m.\u001B[39mall(C_ \u001B[38;5;241m==\u001B[39m INF):\n\u001B[0;32m      2\u001B[0m     i, j \u001B[38;5;241m=\u001B[39m np\u001B[38;5;241m.\u001B[39munravel_index(C_\u001B[38;5;241m.\u001B[39margmin(), C_\u001B[38;5;241m.\u001B[39mshape)\n\u001B[1;32m----> 3\u001B[0m     P[i][j] \u001B[38;5;241m=\u001B[39m \u001B[38;5;28mmin\u001B[39m(A_[i], B_[j])\n\u001B[0;32m      4\u001B[0m     \u001B[38;5;28;01mif\u001B[39;00m A_[i] \u001B[38;5;241m<\u001B[39m\u001B[38;5;241m=\u001B[39m B_[j]:\n\u001B[0;32m      5\u001B[0m         C_[i]\u001B[38;5;241m.\u001B[39mfill(INF)\n",
      "File \u001B[1;32mc:\\users\\ace\\appdata\\local\\programs\\python\\python39\\lib\\site-packages\\numpy\\matrixlib\\defmatrix.py:193\u001B[0m, in \u001B[0;36mmatrix.__getitem__\u001B[1;34m(self, index)\u001B[0m\n\u001B[0;32m    190\u001B[0m \u001B[38;5;28mself\u001B[39m\u001B[38;5;241m.\u001B[39m_getitem \u001B[38;5;241m=\u001B[39m \u001B[38;5;28;01mTrue\u001B[39;00m\n\u001B[0;32m    192\u001B[0m \u001B[38;5;28;01mtry\u001B[39;00m:\n\u001B[1;32m--> 193\u001B[0m     out \u001B[38;5;241m=\u001B[39m \u001B[43mN\u001B[49m\u001B[38;5;241;43m.\u001B[39;49m\u001B[43mndarray\u001B[49m\u001B[38;5;241;43m.\u001B[39;49m\u001B[38;5;21;43m__getitem__\u001B[39;49m\u001B[43m(\u001B[49m\u001B[38;5;28;43mself\u001B[39;49m\u001B[43m,\u001B[49m\u001B[43m \u001B[49m\u001B[43mindex\u001B[49m\u001B[43m)\u001B[49m\n\u001B[0;32m    194\u001B[0m \u001B[38;5;28;01mfinally\u001B[39;00m:\n\u001B[0;32m    195\u001B[0m     \u001B[38;5;28mself\u001B[39m\u001B[38;5;241m.\u001B[39m_getitem \u001B[38;5;241m=\u001B[39m \u001B[38;5;28;01mFalse\u001B[39;00m\n",
      "\u001B[1;31mIndexError\u001B[0m: index 1 is out of bounds for axis 0 with size 1"
     ]
    }
   ],
   "source": [
    "while not np.all(C_ == INF):\n",
    "    i, j = np.unravel_index(C_.argmin(), C_.shape)\n",
    "    P[i][j] = min(A_[i], B_[j])\n",
    "    if A_[i] <= B_[j]:\n",
    "        C_[i].fill(INF)\n",
    "        B_[j] -= A_[i]\n",
    "        A_[i] = 0\n",
    "    else:\n",
    "        C_[:, j].fill(INF)\n",
    "        A_[i] -= B[j]\n",
    "        B_[j] = 0    \n",
    "if np.count_nonzero(P) != N + M - 1:\n",
    "    print('Опорный план вырожденный')\n",
    "else:\n",
    "    print('Опорный план невырожденный')\n",
    "\n",
    "F = 0\n",
    "for i in range(N):\n",
    "    for j in range(M):\n",
    "        F += C[i][j] * P[i][j]\n",
    "print('Полученный план перевозки груза:\\n', P)\n",
    "print('Значение целевой функции для этого опорного плана F =', F)"
   ]
  },
  {
   "cell_type": "markdown",
   "id": "093a5414",
   "metadata": {
    "pycharm": {
     "name": "#%% md\n"
    }
   },
   "source": [
    "Оптимальный план перевозки груза"
   ]
  },
  {
   "cell_type": "code",
   "execution_count": 35,
   "id": "69e4099b",
   "metadata": {
    "pycharm": {
     "name": "#%%\n"
    }
   },
   "outputs": [
    {
     "name": "stdout",
     "output_type": "stream",
     "text": [
      "Primal Feasibility  Dual Feasibility    Duality Gap         Step             Path Parameter      Objective          \n",
      "1.0                 1.0                 1.0                 -                1.0                 158.0               \n",
      "0.1509881089111     0.1509881089111     0.1509881089111     0.8591091387928  0.1509881089111     942.1645814691      \n",
      "0.05267211670766    0.05267211670766    0.05267211670765    0.6696339665225  0.05267211670768    1921.649837504      \n",
      "0.007971459156631   0.007971459156632   0.00797145915663    0.8522187172698  0.007971459156635   5207.102730375      \n",
      "0.001232434474034   0.001232434474034   0.001232434474033   0.8633686608889  0.001232434474034   7039.055211688      \n",
      "0.0001069764105818  0.0001069764105819  0.0001069764105824  0.9363993343587  0.0001069764105733  7503.823376994      \n",
      "7.694919008545e-09  7.694919011674e-09  7.694918279086e-09  0.999935126711   7.694912763143e-09  7549.996639701      \n",
      "Optimization terminated successfully.\n",
      "         Current function value: 7549.996640 \n",
      "         Iterations: 6\n"
     ]
    }
   ],
   "source": [
    "#A_ma1 - матрица коэфициентов\n",
    "#x <= B_ma1 (E @ x <= A)\n",
    "A_ma1 = np.array([[1 if i in range(j*M, M*(j+1)) else 0 for i in range(N*M)] for j in range(N)])\n",
    "B_ma1 = A\n",
    "\n",
    "#A_ma2 - матрица коэфициентов\n",
    "#x = B_ma2 (E @ x = B)\n",
    "A_ma2 = np.array([[1 if i % M == j else 0 for i in range(N*M)] for j in range(M)])\n",
    "B_ma2 = B\n",
    "\n",
    "res = linprog(C.flatten(), A_ma1, B_ma1, A_ma2, B_ma2, options={'disp': True})\n",
    "X = res.x.round(3).reshape(N, M)\n",
    "F_min = res.fun.round(3)"
   ]
  },
  {
   "cell_type": "code",
   "execution_count": 36,
   "id": "80e6e85a",
   "metadata": {
    "pycharm": {
     "name": "#%%\n"
    }
   },
   "outputs": [
    {
     "name": "stdout",
     "output_type": "stream",
     "text": [
      "Оптимальный план перевозки груза:\n"
     ]
    },
    {
     "data": {
      "text/plain": [
       "array([[  0.   ,   0.   ,   0.   , 138.787, 111.213],\n",
       "       [  0.   ,   0.   , 220.   , 121.213,  58.787],\n",
       "       [160.   , 110.   ,   0.   ,  10.   ,   0.   ]])"
      ]
     },
     "execution_count": 36,
     "metadata": {},
     "output_type": "execute_result"
    }
   ],
   "source": [
    "print('Оптимальный план перевозки груза:')\n",
    "X"
   ]
  },
  {
   "cell_type": "code",
   "execution_count": 37,
   "id": "54525c7f",
   "metadata": {
    "pycharm": {
     "name": "#%%\n"
    }
   },
   "outputs": [
    {
     "name": "stdout",
     "output_type": "stream",
     "text": [
      "Оптимальная стоимость перевозки:\n"
     ]
    },
    {
     "data": {
      "text/plain": [
       "7549.997"
      ]
     },
     "execution_count": 37,
     "metadata": {},
     "output_type": "execute_result"
    }
   ],
   "source": [
    "print('Оптимальная стоимость перевозки:')\n",
    "F_min"
   ]
  },
  {
   "cell_type": "code",
   "execution_count": null,
   "id": "166f5a5a",
   "metadata": {
    "pycharm": {
     "name": "#%%\n"
    }
   },
   "outputs": [],
   "source": []
  }
 ],
 "metadata": {
  "kernelspec": {
   "display_name": "Python 3 (ipykernel)",
   "language": "python",
   "name": "python3"
  },
  "language_info": {
   "codemirror_mode": {
    "name": "ipython",
    "version": 3
   },
   "file_extension": ".py",
   "mimetype": "text/x-python",
   "name": "python",
   "nbconvert_exporter": "python",
   "pygments_lexer": "ipython3",
   "version": "3.9.2"
  }
 },
 "nbformat": 4,
 "nbformat_minor": 5
}