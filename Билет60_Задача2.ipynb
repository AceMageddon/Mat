{
 "cells": [
  {
   "cell_type": "code",
   "execution_count": 19,
   "id": "14cd719d",
   "metadata": {},
   "outputs": [],
   "source": [
    "import numpy as np"
   ]
  },
  {
   "cell_type": "code",
   "execution_count": 20,
   "id": "bb991955",
   "metadata": {},
   "outputs": [],
   "source": [
    "def savidj():\n",
    "    max_y = []\n",
    "    test = np.array(\n",
    "        [[3, 5, 6, 2],\n",
    "        [3, -1, 8, 4],\n",
    "        [-4, 3, 7, -2],\n",
    "        [9, 5, 6, 5],\n",
    "        [-3, 6, 8, 4]]\n",
    "    )\n",
    "    rotate = np.transpose(test)\n",
    "\n",
    "    for i in rotate:\n",
    "        max_y.append(max(i))\n",
    "\n",
    "    risk_mat = []\n",
    "    for i in arr:\n",
    "        buff = []\n",
    "        for j in range(len(i)):\n",
    "            buff.append(max_y[j] - i[j])\n",
    "        risk_mat.append(buff)\n",
    "    maxim =  []\n",
    "    for ind, i in enumerate(risk_mat):\n",
    "        maxim.append(max(i))\n",
    "    return maxim.index(min(maxim))"
   ]
  },
  {
   "cell_type": "code",
   "execution_count": 21,
   "id": "8658aa56",
   "metadata": {},
   "outputs": [
    {
     "data": {
      "text/plain": [
       "3"
      ]
     },
     "execution_count": 21,
     "metadata": {},
     "output_type": "execute_result"
    }
   ],
   "source": [
    "savidj()"
   ]
  },
  {
   "cell_type": "code",
   "execution_count": null,
   "id": "9d57ee5c",
   "metadata": {},
   "outputs": [],
   "source": []
  }
 ],
 "metadata": {
  "kernelspec": {
   "display_name": "Python 3",
   "language": "python",
   "name": "python3"
  },
  "language_info": {
   "codemirror_mode": {
    "name": "ipython",
    "version": 3
   },
   "file_extension": ".py",
   "mimetype": "text/x-python",
   "name": "python",
   "nbconvert_exporter": "python",
   "pygments_lexer": "ipython3",
   "version": "3.8.10"
  }
 },
 "nbformat": 4,
 "nbformat_minor": 5
}
