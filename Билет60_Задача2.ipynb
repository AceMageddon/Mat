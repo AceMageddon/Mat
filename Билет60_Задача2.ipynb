{
 "cells": [
  {
   "cell_type": "code",
   "execution_count": null,
   "metadata": {
    "collapsed": true,
    "pycharm": {
     "name": "#%%\n",
     "is_executing": true
    }
   },
   "outputs": [],
   "source": [
    "import numpy as np"
   ]
  },
  {
   "cell_type": "code",
   "execution_count": null,
   "outputs": [],
   "source": [
    "def savidj(arr):\n",
    "    max_y = []\n",
    "    test = np.array(\n",
    "        [3, 5, 6, 2],\n",
    "        [3, -1, 8, 4],\n",
    "        [-4, 3, 7, -2],\n",
    "        [9, 5, 6, 5],\n",
    "        [-3, 6, 8, 4])\n",
    "    rotate = np.transpose(test)\n",
    "\n",
    "    for i in rotate:\n",
    "        max_y.append(max(i))\n",
    "\n",
    "    risk_mat = []\n",
    "    for i in arr:\n",
    "        buff = []\n",
    "        for j in range(len(i)):\n",
    "            buff.append(max_y[j] - i[j])\n",
    "        risk_mat.append(buff)\n",
    "    maxim =  []\n",
    "    for ind, i in enumerate(risk_mat):\n",
    "        maxim.append(max(i))\n",
    "    return maxim.index(min(maxim))"
   ],
   "metadata": {
    "collapsed": false,
    "pycharm": {
     "name": "#%%\n"
    }
   }
  }
 ],
 "metadata": {
  "kernelspec": {
   "display_name": "Python 3",
   "language": "python",
   "name": "python3"
  },
  "language_info": {
   "codemirror_mode": {
    "name": "ipython",
    "version": 2
   },
   "file_extension": ".py",
   "mimetype": "text/x-python",
   "name": "python",
   "nbconvert_exporter": "python",
   "pygments_lexer": "ipython2",
   "version": "2.7.6"
  }
 },
 "nbformat": 4,
 "nbformat_minor": 0
}