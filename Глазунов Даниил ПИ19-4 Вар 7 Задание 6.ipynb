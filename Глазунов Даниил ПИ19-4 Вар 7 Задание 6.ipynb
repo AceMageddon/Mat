{
 "cells": [
  {
   "cell_type": "markdown",
   "id": "2cc9865e",
   "metadata": {},
   "source": [
    "Вариант 7 Глазунов Даниил ПИ19-4"
   ]
  },
  {
   "cell_type": "code",
   "execution_count": 1,
   "id": "9331cd31",
   "metadata": {},
   "outputs": [],
   "source": [
    "import numpy as np\n",
    "import pandas as pd\n",
    "from scipy.optimize import Bounds, linprog\n",
    "import sympy as sym\n",
    "import matplotlib.pyplot as plt\n",
    "from gurobipy import *"
   ]
  },
  {
   "cell_type": "code",
   "execution_count": 2,
   "id": "7b3aef90",
   "metadata": {},
   "outputs": [],
   "source": [
    "a = 3\n",
    "b = 2\n",
    "c = 23"
   ]
  },
  {
   "cell_type": "code",
   "execution_count": 3,
   "id": "605ad0e1",
   "metadata": {},
   "outputs": [],
   "source": [
    "#Находим оптимальный план производства\n",
    "#Вводим границы и ограничения\n",
    "bounds = np.array([(0, np.inf), (0, np.inf), (0, np.inf)])\n",
    "\n",
    "#A_ma - матрица при x1,x2,x3\n",
    "A_ma = np.array([[1, 3, a], [6, 5, 2]])\n",
    "#x <= B_ma\n",
    "B_ma = np.array([3000, 3320])\n",
    "#c0 - коэффициенты перед переменными в целевой функции\n",
    "c0 = np.array([6*b + 12, 5*b + 22, c])"
   ]
  },
  {
   "cell_type": "code",
   "execution_count": 4,
   "id": "b3348470",
   "metadata": {},
   "outputs": [
    {
     "name": "stdout",
     "output_type": "stream",
     "text": [
      "Optimization terminated successfully.\n",
      "         Current function value: -27042.500000\n",
      "         Iterations: 3\n"
     ]
    }
   ],
   "source": [
    "res = linprog(-c0, A_ma, B_ma, bounds=bounds, method='simplex', options={'disp': True})"
   ]
  },
  {
   "cell_type": "code",
   "execution_count": 5,
   "id": "045f7513",
   "metadata": {},
   "outputs": [
    {
     "name": "stdout",
     "output_type": "stream",
     "text": [
      "[247.5   0.  917.5]\n"
     ]
    }
   ],
   "source": [
    "x1 = res.x[0]\n",
    "x2 = res.x[1]\n",
    "x3 = res.x[2]\n",
    "F_max = -res.fun\n",
    "print(res.x)"
   ]
  },
  {
   "cell_type": "code",
   "execution_count": 6,
   "id": "6756b83c",
   "metadata": {},
   "outputs": [
    {
     "name": "stdout",
     "output_type": "stream",
     "text": [
      "Оптимальные значения: x1 = 247.5, x2 = 0.0, x3 = 917.5\n",
      "Max значение функции: 27042.5\n"
     ]
    }
   ],
   "source": [
    "print(f'Оптимальные значения: x1 = {x1.round(3)}, x2 = {x2.round(3)}, x3 = {x3.round(3)}')\n",
    "print('Max значение функции:',F_max.round(3))"
   ]
  },
  {
   "cell_type": "code",
   "execution_count": 7,
   "id": "71044cc9",
   "metadata": {},
   "outputs": [
    {
     "data": {
      "text/plain": [
       "array([3000., 3320.])"
      ]
     },
     "execution_count": 7,
     "metadata": {},
     "output_type": "execute_result"
    }
   ],
   "source": [
    "#Реальный расход ресурсов\n",
    "B_opt = np.array([x1 + 3*x2 + a*x3, 6*x1 + 5*x2 + 2*x3]) \n",
    "B_opt"
   ]
  },
  {
   "cell_type": "code",
   "execution_count": 8,
   "id": "1b012a31",
   "metadata": {},
   "outputs": [
    {
     "data": {
      "text/plain": [
       "array([0., 0.])"
      ]
     },
     "execution_count": 8,
     "metadata": {},
     "output_type": "execute_result"
    }
   ],
   "source": [
    "abs(B_map-B_opt)"
   ]
  },
  {
   "cell_type": "code",
   "execution_count": 9,
   "id": "ef06a556",
   "metadata": {},
   "outputs": [],
   "source": [
    "var_names = ['x1', 'x2', 'x3']          \n",
    "#Задаем цены\n",
    "profit = np.array([6*b + 12, 5*b + 22, c])  \n",
    "#Задаем использование ресурсов\n",
    "res_used = np.array([[1, 3, a], [6, 5, 2]]) \n",
    "#Задаем запасы\n",
    "res_avail = np.array([3000, 3320])                    "
   ]
  },
  {
   "cell_type": "code",
   "execution_count": 10,
   "id": "503351f2",
   "metadata": {},
   "outputs": [
    {
     "name": "stdout",
     "output_type": "stream",
     "text": [
      "Restricted license - for non-production use only - expires 2023-10-25\n",
      "Gurobi Optimizer version 9.5.1 build v9.5.1rc2 (win64)\n",
      "Thread count: 6 physical cores, 6 logical processors, using up to 6 threads\n",
      "Optimize a model with 2 rows, 3 columns and 6 nonzeros\n",
      "Model fingerprint: 0x91cab8a2\n",
      "Coefficient statistics:\n",
      "  Matrix range     [1e+00, 6e+00]\n",
      "  Objective range  [2e+01, 3e+01]\n",
      "  Bounds range     [0e+00, 0e+00]\n",
      "  RHS range        [3e+03, 3e+03]\n",
      "Presolve time: 0.00s\n",
      "Presolved: 2 rows, 3 columns, 6 nonzeros\n",
      "\n",
      "Iteration    Objective       Primal Inf.    Dual Inf.      Time\n",
      "       0    7.9000000e+31   3.375000e+30   7.900000e+01      0s\n",
      "       2    2.7042500e+04   0.000000e+00   0.000000e+00      0s\n",
      "\n",
      "Solved in 2 iterations and 0.01 seconds (0.00 work units)\n",
      "Optimal objective  2.704250000e+04\n"
     ]
    }
   ],
   "source": [
    "n = len(profit)                                    \n",
    "m = len(res_avail)                                 \n",
    "model = Model()\n",
    "x = model.addVars(n, name=var_names) # заводим переменные в модель\n",
    "obj = model.setObjective(quicksum(profit[j] * x[j] for j in range(n)), GRB.MAXIMIZE)\n",
    "con = []\n",
    "for i in range(m):\n",
    "    con.append(model.addConstr(quicksum(res_used[i, j] * x[j] for j in range(n)) <= res_avail[i], name=var_names[i]))\n",
    "model.optimize()"
   ]
  },
  {
   "cell_type": "code",
   "execution_count": 11,
   "id": "d17b567f",
   "metadata": {},
   "outputs": [
    {
     "name": "stdout",
     "output_type": "stream",
     "text": [
      "X = [247.5, 0.0, 917.5] \n",
      "Fmax = 27042.5 \n",
      "Оптимальный план двойственной задачи Pi → (y1,y2) = [5.625, 3.0625]\n",
      "x1 = 247.5\n",
      "Pi1 = 5.625\n"
     ]
    }
   ],
   "source": [
    "#Параметры модели:\n",
    "print(\"X =\", model.X, \"\\nFmax =\", model.ObjVal, \"\\nОптимальный план двойственной задачи Pi → (y1,y2) =\", model.Pi) \n",
    "print(\"x1 =\", x[0].X)\n",
    "print(\"Pi1 =\", con[0].Pi)"
   ]
  },
  {
   "cell_type": "code",
   "execution_count": 12,
   "id": "67b12bee",
   "metadata": {},
   "outputs": [
    {
     "name": "stdout",
     "output_type": "stream",
     "text": [
      "\n",
      "    Variable            X          Obj     SAObjLow      SAObjUp \n",
      "----------------------------------------------------------------\n",
      "          x1        247.5           24      23.6667           69 \n",
      "          x2            0           32         -inf      32.1875 \n",
      "          x3        917.5           23      22.7692           72 \n"
     ]
    }
   ],
   "source": [
    "model.printAttr(['X', 'Obj', 'SAObjLow', 'SAObjUp'])"
   ]
  },
  {
   "cell_type": "code",
   "execution_count": 13,
   "id": "6a28d068",
   "metadata": {},
   "outputs": [
    {
     "name": "stdout",
     "output_type": "stream",
     "text": [
      "Fmax = 27042.5\n"
     ]
    }
   ],
   "source": [
    "print('Fmax =', model.ObjVal)"
   ]
  },
  {
   "cell_type": "code",
   "execution_count": 14,
   "id": "5b4750b3",
   "metadata": {},
   "outputs": [
    {
     "name": "stdout",
     "output_type": "stream",
     "text": [
      "\n",
      "    Variable            X           RC           LB      SALBLow       SALBUp           UB      SAUBLow       SAUBUp \n",
      "--------------------------------------------------------------------------------------------------------------------\n",
      "          x1        247.5            0            0         -inf        247.5          inf        247.5          inf \n",
      "          x2            0      -0.1875            0         -inf          440          inf            0          inf \n",
      "          x3        917.5            0            0         -inf        917.5          inf        917.5          inf \n"
     ]
    }
   ],
   "source": [
    "model.printAttr(['X', 'RC', 'LB', 'SALBLow', 'SALBUp', 'UB', 'SAUBLow', 'SAUBUp'])"
   ]
  },
  {
   "cell_type": "code",
   "execution_count": 15,
   "id": "d9b77ae3",
   "metadata": {},
   "outputs": [
    {
     "name": "stdout",
     "output_type": "stream",
     "text": [
      "\n",
      "  Constraint        Sense        Slack           Pi          RHS     SARHSLow      SARHSUp \n",
      "------------------------------------------------------------------------------------------\n",
      "          x1            <            0        5.625         3000      553.333         4980 \n",
      "          x2            <            0       3.0625         3320         2000        18000 \n"
     ]
    }
   ],
   "source": [
    "model.printAttr(['Sense', 'Slack', 'Pi', 'RHS', 'SARHSLow', 'SARHSUp'])"
   ]
  },
  {
   "cell_type": "code",
   "execution_count": null,
   "id": "c139010d",
   "metadata": {},
   "outputs": [],
   "source": []
  }
 ],
 "metadata": {
  "kernelspec": {
   "display_name": "Python 3 (ipykernel)",
   "language": "python",
   "name": "python3"
  },
  "language_info": {
   "codemirror_mode": {
    "name": "ipython",
    "version": 3
   },
   "file_extension": ".py",
   "mimetype": "text/x-python",
   "name": "python",
   "nbconvert_exporter": "python",
   "pygments_lexer": "ipython3",
   "version": "3.9.2"
  }
 },
 "nbformat": 4,
 "nbformat_minor": 5
}
