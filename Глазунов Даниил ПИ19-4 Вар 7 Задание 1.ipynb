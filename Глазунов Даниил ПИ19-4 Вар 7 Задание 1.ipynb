{
 "cells": [
  {
   "cell_type": "code",
   "execution_count": 5,
   "metadata": {
    "pycharm": {
     "name": "#%%\n"
    }
   },
   "outputs": [],
   "source": [
    "import numpy as np\n",
    "from scipy import linalg\n",
    "import matplotlib.pyplot as plt"
   ]
  },
  {
   "cell_type": "markdown",
   "metadata": {
    "pycharm": {
     "name": "#%% md\n"
    }
   },
   "source": [
    "Вариант 7 Глазунов Даниил ПИ19-4"
   ]
  },
  {
   "cell_type": "code",
   "execution_count": 6,
   "metadata": {
    "pycharm": {
     "name": "#%%\n"
    }
   },
   "outputs": [],
   "source": [
    "def Task(X, x, y, y2):\n",
    "    # Вывод матрицы прямых затрат A\n",
    "    A = X / x\n",
    "    # Единичная матрица 2х2\n",
    "    E = np.eye(2)\n",
    "    # Построение матрицы (E-A) и ее вывод\n",
    "    EA = E - A\n",
    "    # Построение матрицы полных затрат S=(E-A)−1\n",
    "    S = linalg.inv(EA)\n",
    "    # Проверка обратной матрицы\n",
    "    E1 = S @ EA\n",
    "    # Проверка: для всех ли элементов матрицы S выполнено условие\n",
    "    prod = (S>0).all()\n",
    "    # Вычисление собственных значений и собственных векторов матрицы A\n",
    "    val, vect = np.linalg.eig(A)\n",
    "    # Собственные значения матрицы A\n",
    "    d = np.linalg.eigvals(A)\n",
    "    fr = np.argmax(val)\n",
    "    #Вектор Фробениуса pA\n",
    "    vec = abs(vect[:,fr])\n",
    "    # Определение числа Фробениуса\n",
    "    ch_fob = max(d)\n",
    "    # Вектор объемов производства по отраслям (x1=x)\n",
    "    x1 = S @ y\n",
    "    # Вектор новых объемов производства по отраслям (валового выпуска)\n",
    "    x2 = S @ y2\n",
    "    # Чистая продукция отрасли - разность между валовой продукцией этой\n",
    "    #отрасли и продукцией всех отраслей на производство этой отрасли\n",
    "    xc = np.array([0, 0])\n",
    "    x11 = A[0,0] * x2[0]\n",
    "    x21 = A[1,0] * x2[0]\n",
    "    xc[0] = x2[0]-(x11+x21)\n",
    "    x12 = A[0,1]*x2[1]\n",
    "    x22 = A[1,1]*x2[1]\n",
    "    xc[1] = x2[1]-(x12 + x22)\n",
    " \n",
    "    return f'''Матрица прямых затрат A = {A}, \n",
    "    Матрица A{' НЕ' if not prod else ''} продуктивна,\n",
    "    Число Фробениуса λA = {ch_fob},\n",
    "    Вектор Фробениуса pA = {vec},\n",
    "    Новый вектор объемов производства (валового выпуска) x2 = {x2},\n",
    "    Вектор-столбец выпуска чистой продукции xc = {xc}\n",
    "'''"
   ]
  },
  {
   "cell_type": "code",
   "execution_count": 7,
   "metadata": {
    "pycharm": {
     "name": "#%%\n"
    }
   },
   "outputs": [
    {
     "name": "stdout",
     "output_type": "stream",
     "text": [
      "Матрица прямых затрат A = [[0.0546875  0.15028902]\n",
      " [0.140625   0.13872832]], \n",
      "    Матрица A продуктивна,\n",
      "    Число Фробениуса λA = 0.24803572844534927,\n",
      "    Вектор Фробениуса pA = [0.61370412 0.7895361 ],\n",
      "    Новый вектор объемов производства (валового выпуска) x2 = [224.3516884 146.9332612],\n",
      "    Вектор-столбец выпуска чистой продукции xc = [180 104]\n",
      "\n"
     ]
    }
   ],
   "source": [
    "print(Task(np.array([[7, 26], [18, 24]]), np.sum(np.array([[7, 26], [18, 24]]), axis=1) + np.array([95, 131]), np.array([95, 131]),  np.array([190, 95])))"
   ]
  },
  {
   "cell_type": "code",
   "execution_count": 8,
   "metadata": {
    "pycharm": {
     "name": "#%%\n"
    }
   },
   "outputs": [
    {
     "data": {
      "text/plain": "([<matplotlib.axis.XTick at 0x21efaa4e190>,\n  <matplotlib.axis.XTick at 0x21efaa4e160>],\n [Text(0.3, 0, '1'), Text(1.3, 0, '2')])"
     },
     "execution_count": 8,
     "metadata": {},
     "output_type": "execute_result"
    },
    {
     "data": {
      "text/plain": "<Figure size 432x288 with 1 Axes>",
      "image/png": "[encoded data removed]"
     },
     "metadata": {
      "needs_background": "light"
     },
     "output_type": "display_data"
    }
   ],
   "source": [
    "index = np.arange(2)\n",
    "values1 = [7, 26]\n",
    "values2 = [18, 24]\n",
    "bw = 0.3\n",
    "plt.axis([-0.5,2,0,42])\n",
    "plt.title('Количество продукции в каждой отрасли', fontsize=20)\n",
    "plt.bar(index, values1, bw, color='b')\n",
    "plt.bar(index+bw, values2, bw, color='g')\n",
    "plt.xticks(index+bw,['1','2'])"
   ]
  },
  {
   "cell_type": "code",
   "execution_count": 9,
   "metadata": {
    "pycharm": {
     "name": "#%%\n"
    }
   },
   "outputs": [
    {
     "data": {
      "text/plain": "([<matplotlib.axis.YTick at 0x21ef99eaa90>,\n  <matplotlib.axis.YTick at 0x21efab54df0>],\n [Text(0, 0.3, '1'), Text(0, 1.3, '2')])"
     },
     "execution_count": 9,
     "metadata": {},
     "output_type": "execute_result"
    },
    {
     "data": {
      "text/plain": "<Figure size 432x288 with 1 Axes>",
      "image/png": "[encoded data removed]"
     },
     "metadata": {
      "needs_background": "light"
     },
     "output_type": "display_data"
    }
   ],
   "source": [
    "import matplotlib.pyplot as plt\n",
    "\n",
    "index = np.arange(2)\n",
    "# Вектор-столбец конечного потребления\n",
    "y = np.array([95, 131])\n",
    "# Вектор-столбец объемов производства\n",
    "x =  np.sum(np.array([[7, 26], [18, 24]]), axis=1) + np.array([95, 131])\n",
    "bw = 0.3\n",
    "plt.axis([0,250,-0.5,2])\n",
    "plt.title('На сколько объёмы производства больше конечного потребления в каждой отрасли', fontsize=15)\n",
    "plt.barh(index, y, bw, color='r')\n",
    "plt.barh(index+bw, x, bw, color='y')\n",
    "plt.yticks(index+bw,['1','2'])"
   ]
  },
  {
   "cell_type": "code",
   "execution_count": 9,
   "metadata": {
    "pycharm": {
     "name": "#%%\n"
    }
   },
   "outputs": [],
   "source": []
  }
 ],
 "metadata": {
  "kernelspec": {
   "display_name": "Python 3",
   "language": "python",
   "name": "python3"
  },
  "language_info": {
   "codemirror_mode": {
    "name": "ipython",
    "version": 3
   },
   "file_extension": ".py",
   "mimetype": "text/x-python",
   "name": "python",
   "nbconvert_exporter": "python",
   "pygments_lexer": "ipython3",
   "version": "3.8.5"
  }
 },
 "nbformat": 4,
 "nbformat_minor": 4
}